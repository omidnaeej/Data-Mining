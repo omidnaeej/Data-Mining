{
  "nbformat": 4,
  "nbformat_minor": 0,
  "metadata": {
    "colab": {
      "provenance": [],
      "collapsed_sections": [
        "2Q5GRhWyZnwR",
        "fgZgrpy2lftl",
        "yHR2YNv48Vf1",
        "Zu2A482iar8T",
        "GdpIZnVw8KbH",
        "nU_Uta9wg5KQ"
      ]
    },
    "kernelspec": {
      "name": "python3",
      "display_name": "Python 3"
    },
    "language_info": {
      "name": "python"
    }
  },
  "cells": [
    {
      "cell_type": "markdown",
      "source": [
        "# Python Libraries"
      ],
      "metadata": {
        "id": "2Q5GRhWyZnwR"
      }
    },
    {
      "cell_type": "code",
      "source": [
        "import scipy.stats as stats\n",
        "import numpy as np\n",
        "import pandas as pd\n",
        "\n",
        "import statsmodels.api as sm\n",
        "import matplotlib.pyplot as plt"
      ],
      "metadata": {
        "id": "UpOx10d3bi4k"
      },
      "execution_count": null,
      "outputs": []
    },
    {
      "cell_type": "markdown",
      "source": [
        "## Dataset"
      ],
      "metadata": {
        "id": "fgZgrpy2lftl"
      }
    },
    {
      "cell_type": "code",
      "source": [
        "\n",
        "# Load data from a CSV file\n",
        "file_path = './cereals.csv'\n",
        "data = pd.read_csv(file_path)\n",
        "\n",
        "# Display the first few rows of the data to understand its structure\n",
        "data.head()"
      ],
      "metadata": {
        "colab": {
          "base_uri": "https://localhost:8080/"
        },
        "id": "CiwdBUzC-Pm-",
        "outputId": "133365a7-db7a-4287-bad6-1b176b4a8c3b"
      },
      "execution_count": null,
      "outputs": [
        {
          "output_type": "execute_result",
          "data": {
            "text/plain": [
              "                                     NAME MANUF  TYPE  CALORIES  PROTEIN  FAT  \\\n",
              "0  100%_Bran                                N    C           70        4    1   \n",
              "1  100%_Natural_Bran                        Q    C          120        3    5   \n",
              "2  All-Bran                                 K    C           70        4    1   \n",
              "3  All-Bran_with_Extra_Fiber                K    C           50        4    0   \n",
              "4  Almond_Delight                           R    C          110        2    2   \n",
              "\n",
              "   SODIUM  FIBER  CARBO  SUGARS  POTASS  VITAMINS  SHELF  WEIGHT  CUPS  \\\n",
              "0     130   10.0    5.0       6     280        25      3     1.0  0.33   \n",
              "1      15    2.0    8.0       8     135         0      3     1.0  1.00   \n",
              "2     260    9.0    7.0       5     320        25      3     1.0  0.33   \n",
              "3     140   14.0    8.0       0     330        25      3     1.0  0.50   \n",
              "4     200    1.0   14.0       8      -1        25      3     1.0  0.75   \n",
              "\n",
              "      RATING  \n",
              "0  68.402973  \n",
              "1  33.983679  \n",
              "2  59.425505  \n",
              "3  93.704912  \n",
              "4  34.384843  "
            ],
            "text/html": [
              "\n",
              "  <div id=\"df-b859f9cf-fa1d-4af6-90a1-da7bccac87df\" class=\"colab-df-container\">\n",
              "    <div>\n",
              "<style scoped>\n",
              "    .dataframe tbody tr th:only-of-type {\n",
              "        vertical-align: middle;\n",
              "    }\n",
              "\n",
              "    .dataframe tbody tr th {\n",
              "        vertical-align: top;\n",
              "    }\n",
              "\n",
              "    .dataframe thead th {\n",
              "        text-align: right;\n",
              "    }\n",
              "</style>\n",
              "<table border=\"1\" class=\"dataframe\">\n",
              "  <thead>\n",
              "    <tr style=\"text-align: right;\">\n",
              "      <th></th>\n",
              "      <th>NAME</th>\n",
              "      <th>MANUF</th>\n",
              "      <th>TYPE</th>\n",
              "      <th>CALORIES</th>\n",
              "      <th>PROTEIN</th>\n",
              "      <th>FAT</th>\n",
              "      <th>SODIUM</th>\n",
              "      <th>FIBER</th>\n",
              "      <th>CARBO</th>\n",
              "      <th>SUGARS</th>\n",
              "      <th>POTASS</th>\n",
              "      <th>VITAMINS</th>\n",
              "      <th>SHELF</th>\n",
              "      <th>WEIGHT</th>\n",
              "      <th>CUPS</th>\n",
              "      <th>RATING</th>\n",
              "    </tr>\n",
              "  </thead>\n",
              "  <tbody>\n",
              "    <tr>\n",
              "      <th>0</th>\n",
              "      <td>100%_Bran</td>\n",
              "      <td>N</td>\n",
              "      <td>C</td>\n",
              "      <td>70</td>\n",
              "      <td>4</td>\n",
              "      <td>1</td>\n",
              "      <td>130</td>\n",
              "      <td>10.0</td>\n",
              "      <td>5.0</td>\n",
              "      <td>6</td>\n",
              "      <td>280</td>\n",
              "      <td>25</td>\n",
              "      <td>3</td>\n",
              "      <td>1.0</td>\n",
              "      <td>0.33</td>\n",
              "      <td>68.402973</td>\n",
              "    </tr>\n",
              "    <tr>\n",
              "      <th>1</th>\n",
              "      <td>100%_Natural_Bran</td>\n",
              "      <td>Q</td>\n",
              "      <td>C</td>\n",
              "      <td>120</td>\n",
              "      <td>3</td>\n",
              "      <td>5</td>\n",
              "      <td>15</td>\n",
              "      <td>2.0</td>\n",
              "      <td>8.0</td>\n",
              "      <td>8</td>\n",
              "      <td>135</td>\n",
              "      <td>0</td>\n",
              "      <td>3</td>\n",
              "      <td>1.0</td>\n",
              "      <td>1.00</td>\n",
              "      <td>33.983679</td>\n",
              "    </tr>\n",
              "    <tr>\n",
              "      <th>2</th>\n",
              "      <td>All-Bran</td>\n",
              "      <td>K</td>\n",
              "      <td>C</td>\n",
              "      <td>70</td>\n",
              "      <td>4</td>\n",
              "      <td>1</td>\n",
              "      <td>260</td>\n",
              "      <td>9.0</td>\n",
              "      <td>7.0</td>\n",
              "      <td>5</td>\n",
              "      <td>320</td>\n",
              "      <td>25</td>\n",
              "      <td>3</td>\n",
              "      <td>1.0</td>\n",
              "      <td>0.33</td>\n",
              "      <td>59.425505</td>\n",
              "    </tr>\n",
              "    <tr>\n",
              "      <th>3</th>\n",
              "      <td>All-Bran_with_Extra_Fiber</td>\n",
              "      <td>K</td>\n",
              "      <td>C</td>\n",
              "      <td>50</td>\n",
              "      <td>4</td>\n",
              "      <td>0</td>\n",
              "      <td>140</td>\n",
              "      <td>14.0</td>\n",
              "      <td>8.0</td>\n",
              "      <td>0</td>\n",
              "      <td>330</td>\n",
              "      <td>25</td>\n",
              "      <td>3</td>\n",
              "      <td>1.0</td>\n",
              "      <td>0.50</td>\n",
              "      <td>93.704912</td>\n",
              "    </tr>\n",
              "    <tr>\n",
              "      <th>4</th>\n",
              "      <td>Almond_Delight</td>\n",
              "      <td>R</td>\n",
              "      <td>C</td>\n",
              "      <td>110</td>\n",
              "      <td>2</td>\n",
              "      <td>2</td>\n",
              "      <td>200</td>\n",
              "      <td>1.0</td>\n",
              "      <td>14.0</td>\n",
              "      <td>8</td>\n",
              "      <td>-1</td>\n",
              "      <td>25</td>\n",
              "      <td>3</td>\n",
              "      <td>1.0</td>\n",
              "      <td>0.75</td>\n",
              "      <td>34.384843</td>\n",
              "    </tr>\n",
              "  </tbody>\n",
              "</table>\n",
              "</div>\n",
              "    <div class=\"colab-df-buttons\">\n",
              "\n",
              "  <div class=\"colab-df-container\">\n",
              "    <button class=\"colab-df-convert\" onclick=\"convertToInteractive('df-b859f9cf-fa1d-4af6-90a1-da7bccac87df')\"\n",
              "            title=\"Convert this dataframe to an interactive table.\"\n",
              "            style=\"display:none;\">\n",
              "\n",
              "  <svg xmlns=\"http://www.w3.org/2000/svg\" height=\"24px\" viewBox=\"0 -960 960 960\">\n",
              "    <path d=\"M120-120v-720h720v720H120Zm60-500h600v-160H180v160Zm220 220h160v-160H400v160Zm0 220h160v-160H400v160ZM180-400h160v-160H180v160Zm440 0h160v-160H620v160ZM180-180h160v-160H180v160Zm440 0h160v-160H620v160Z\"/>\n",
              "  </svg>\n",
              "    </button>\n",
              "\n",
              "  <style>\n",
              "    .colab-df-container {\n",
              "      display:flex;\n",
              "      gap: 12px;\n",
              "    }\n",
              "\n",
              "    .colab-df-convert {\n",
              "      background-color: #E8F0FE;\n",
              "      border: none;\n",
              "      border-radius: 50%;\n",
              "      cursor: pointer;\n",
              "      display: none;\n",
              "      fill: #1967D2;\n",
              "      height: 32px;\n",
              "      padding: 0 0 0 0;\n",
              "      width: 32px;\n",
              "    }\n",
              "\n",
              "    .colab-df-convert:hover {\n",
              "      background-color: #E2EBFA;\n",
              "      box-shadow: 0px 1px 2px rgba(60, 64, 67, 0.3), 0px 1px 3px 1px rgba(60, 64, 67, 0.15);\n",
              "      fill: #174EA6;\n",
              "    }\n",
              "\n",
              "    .colab-df-buttons div {\n",
              "      margin-bottom: 4px;\n",
              "    }\n",
              "\n",
              "    [theme=dark] .colab-df-convert {\n",
              "      background-color: #3B4455;\n",
              "      fill: #D2E3FC;\n",
              "    }\n",
              "\n",
              "    [theme=dark] .colab-df-convert:hover {\n",
              "      background-color: #434B5C;\n",
              "      box-shadow: 0px 1px 3px 1px rgba(0, 0, 0, 0.15);\n",
              "      filter: drop-shadow(0px 1px 2px rgba(0, 0, 0, 0.3));\n",
              "      fill: #FFFFFF;\n",
              "    }\n",
              "  </style>\n",
              "\n",
              "    <script>\n",
              "      const buttonEl =\n",
              "        document.querySelector('#df-b859f9cf-fa1d-4af6-90a1-da7bccac87df button.colab-df-convert');\n",
              "      buttonEl.style.display =\n",
              "        google.colab.kernel.accessAllowed ? 'block' : 'none';\n",
              "\n",
              "      async function convertToInteractive(key) {\n",
              "        const element = document.querySelector('#df-b859f9cf-fa1d-4af6-90a1-da7bccac87df');\n",
              "        const dataTable =\n",
              "          await google.colab.kernel.invokeFunction('convertToInteractive',\n",
              "                                                    [key], {});\n",
              "        if (!dataTable) return;\n",
              "\n",
              "        const docLinkHtml = 'Like what you see? Visit the ' +\n",
              "          '<a target=\"_blank\" href=https://colab.research.google.com/notebooks/data_table.ipynb>data table notebook</a>'\n",
              "          + ' to learn more about interactive tables.';\n",
              "        element.innerHTML = '';\n",
              "        dataTable['output_type'] = 'display_data';\n",
              "        await google.colab.output.renderOutput(dataTable, element);\n",
              "        const docLink = document.createElement('div');\n",
              "        docLink.innerHTML = docLinkHtml;\n",
              "        element.appendChild(docLink);\n",
              "      }\n",
              "    </script>\n",
              "  </div>\n",
              "\n",
              "\n",
              "<div id=\"df-6a0ac7d4-4513-4d4f-83ca-58fbfd3442f5\">\n",
              "  <button class=\"colab-df-quickchart\" onclick=\"quickchart('df-6a0ac7d4-4513-4d4f-83ca-58fbfd3442f5')\"\n",
              "            title=\"Suggest charts\"\n",
              "            style=\"display:none;\">\n",
              "\n",
              "<svg xmlns=\"http://www.w3.org/2000/svg\" height=\"24px\"viewBox=\"0 0 24 24\"\n",
              "     width=\"24px\">\n",
              "    <g>\n",
              "        <path d=\"M19 3H5c-1.1 0-2 .9-2 2v14c0 1.1.9 2 2 2h14c1.1 0 2-.9 2-2V5c0-1.1-.9-2-2-2zM9 17H7v-7h2v7zm4 0h-2V7h2v10zm4 0h-2v-4h2v4z\"/>\n",
              "    </g>\n",
              "</svg>\n",
              "  </button>\n",
              "\n",
              "<style>\n",
              "  .colab-df-quickchart {\n",
              "      --bg-color: #E8F0FE;\n",
              "      --fill-color: #1967D2;\n",
              "      --hover-bg-color: #E2EBFA;\n",
              "      --hover-fill-color: #174EA6;\n",
              "      --disabled-fill-color: #AAA;\n",
              "      --disabled-bg-color: #DDD;\n",
              "  }\n",
              "\n",
              "  [theme=dark] .colab-df-quickchart {\n",
              "      --bg-color: #3B4455;\n",
              "      --fill-color: #D2E3FC;\n",
              "      --hover-bg-color: #434B5C;\n",
              "      --hover-fill-color: #FFFFFF;\n",
              "      --disabled-bg-color: #3B4455;\n",
              "      --disabled-fill-color: #666;\n",
              "  }\n",
              "\n",
              "  .colab-df-quickchart {\n",
              "    background-color: var(--bg-color);\n",
              "    border: none;\n",
              "    border-radius: 50%;\n",
              "    cursor: pointer;\n",
              "    display: none;\n",
              "    fill: var(--fill-color);\n",
              "    height: 32px;\n",
              "    padding: 0;\n",
              "    width: 32px;\n",
              "  }\n",
              "\n",
              "  .colab-df-quickchart:hover {\n",
              "    background-color: var(--hover-bg-color);\n",
              "    box-shadow: 0 1px 2px rgba(60, 64, 67, 0.3), 0 1px 3px 1px rgba(60, 64, 67, 0.15);\n",
              "    fill: var(--button-hover-fill-color);\n",
              "  }\n",
              "\n",
              "  .colab-df-quickchart-complete:disabled,\n",
              "  .colab-df-quickchart-complete:disabled:hover {\n",
              "    background-color: var(--disabled-bg-color);\n",
              "    fill: var(--disabled-fill-color);\n",
              "    box-shadow: none;\n",
              "  }\n",
              "\n",
              "  .colab-df-spinner {\n",
              "    border: 2px solid var(--fill-color);\n",
              "    border-color: transparent;\n",
              "    border-bottom-color: var(--fill-color);\n",
              "    animation:\n",
              "      spin 1s steps(1) infinite;\n",
              "  }\n",
              "\n",
              "  @keyframes spin {\n",
              "    0% {\n",
              "      border-color: transparent;\n",
              "      border-bottom-color: var(--fill-color);\n",
              "      border-left-color: var(--fill-color);\n",
              "    }\n",
              "    20% {\n",
              "      border-color: transparent;\n",
              "      border-left-color: var(--fill-color);\n",
              "      border-top-color: var(--fill-color);\n",
              "    }\n",
              "    30% {\n",
              "      border-color: transparent;\n",
              "      border-left-color: var(--fill-color);\n",
              "      border-top-color: var(--fill-color);\n",
              "      border-right-color: var(--fill-color);\n",
              "    }\n",
              "    40% {\n",
              "      border-color: transparent;\n",
              "      border-right-color: var(--fill-color);\n",
              "      border-top-color: var(--fill-color);\n",
              "    }\n",
              "    60% {\n",
              "      border-color: transparent;\n",
              "      border-right-color: var(--fill-color);\n",
              "    }\n",
              "    80% {\n",
              "      border-color: transparent;\n",
              "      border-right-color: var(--fill-color);\n",
              "      border-bottom-color: var(--fill-color);\n",
              "    }\n",
              "    90% {\n",
              "      border-color: transparent;\n",
              "      border-bottom-color: var(--fill-color);\n",
              "    }\n",
              "  }\n",
              "</style>\n",
              "\n",
              "  <script>\n",
              "    async function quickchart(key) {\n",
              "      const quickchartButtonEl =\n",
              "        document.querySelector('#' + key + ' button');\n",
              "      quickchartButtonEl.disabled = true;  // To prevent multiple clicks.\n",
              "      quickchartButtonEl.classList.add('colab-df-spinner');\n",
              "      try {\n",
              "        const charts = await google.colab.kernel.invokeFunction(\n",
              "            'suggestCharts', [key], {});\n",
              "      } catch (error) {\n",
              "        console.error('Error during call to suggestCharts:', error);\n",
              "      }\n",
              "      quickchartButtonEl.classList.remove('colab-df-spinner');\n",
              "      quickchartButtonEl.classList.add('colab-df-quickchart-complete');\n",
              "    }\n",
              "    (() => {\n",
              "      let quickchartButtonEl =\n",
              "        document.querySelector('#df-6a0ac7d4-4513-4d4f-83ca-58fbfd3442f5 button');\n",
              "      quickchartButtonEl.style.display =\n",
              "        google.colab.kernel.accessAllowed ? 'block' : 'none';\n",
              "    })();\n",
              "  </script>\n",
              "</div>\n",
              "    </div>\n",
              "  </div>\n"
            ],
            "application/vnd.google.colaboratory.intrinsic+json": {
              "type": "dataframe",
              "variable_name": "data",
              "summary": "{\n  \"name\": \"data\",\n  \"rows\": 77,\n  \"fields\": [\n    {\n      \"column\": \"NAME\",\n      \"properties\": {\n        \"dtype\": \"string\",\n        \"num_unique_values\": 77,\n        \"samples\": [\n          \"Almond_Delight                        \",\n          \"Honey_Graham_Ohs                      \",\n          \"Cap'n'Crunch                          \"\n        ],\n        \"semantic_type\": \"\",\n        \"description\": \"\"\n      }\n    },\n    {\n      \"column\": \"MANUF\",\n      \"properties\": {\n        \"dtype\": \"category\",\n        \"num_unique_values\": 7,\n        \"samples\": [\n          \"N  \",\n          \"Q  \",\n          \"P  \"\n        ],\n        \"semantic_type\": \"\",\n        \"description\": \"\"\n      }\n    },\n    {\n      \"column\": \"TYPE\",\n      \"properties\": {\n        \"dtype\": \"category\",\n        \"num_unique_values\": 2,\n        \"samples\": [\n          \"H   \",\n          \"C   \"\n        ],\n        \"semantic_type\": \"\",\n        \"description\": \"\"\n      }\n    },\n    {\n      \"column\": \"CALORIES\",\n      \"properties\": {\n        \"dtype\": \"number\",\n        \"std\": 19,\n        \"min\": 50,\n        \"max\": 160,\n        \"num_unique_values\": 11,\n        \"samples\": [\n          90,\n          70\n        ],\n        \"semantic_type\": \"\",\n        \"description\": \"\"\n      }\n    },\n    {\n      \"column\": \"PROTEIN\",\n      \"properties\": {\n        \"dtype\": \"number\",\n        \"std\": 1,\n        \"min\": 1,\n        \"max\": 6,\n        \"num_unique_values\": 6,\n        \"samples\": [\n          4,\n          3\n        ],\n        \"semantic_type\": \"\",\n        \"description\": \"\"\n      }\n    },\n    {\n      \"column\": \"FAT\",\n      \"properties\": {\n        \"dtype\": \"number\",\n        \"std\": 1,\n        \"min\": 0,\n        \"max\": 5,\n        \"num_unique_values\": 5,\n        \"samples\": [\n          5,\n          3\n        ],\n        \"semantic_type\": \"\",\n        \"description\": \"\"\n      }\n    },\n    {\n      \"column\": \"SODIUM\",\n      \"properties\": {\n        \"dtype\": \"number\",\n        \"std\": 83,\n        \"min\": 0,\n        \"max\": 320,\n        \"num_unique_values\": 27,\n        \"samples\": [\n          220,\n          190\n        ],\n        \"semantic_type\": \"\",\n        \"description\": \"\"\n      }\n    },\n    {\n      \"column\": \"FIBER\",\n      \"properties\": {\n        \"dtype\": \"number\",\n        \"std\": 2.3833639643872235,\n        \"min\": 0.0,\n        \"max\": 14.0,\n        \"num_unique_values\": 13,\n        \"samples\": [\n          2.7,\n          3.0\n        ],\n        \"semantic_type\": \"\",\n        \"description\": \"\"\n      }\n    },\n    {\n      \"column\": \"CARBO\",\n      \"properties\": {\n        \"dtype\": \"number\",\n        \"std\": 4.278956280325909,\n        \"min\": -1.0,\n        \"max\": 23.0,\n        \"num_unique_values\": 22,\n        \"samples\": [\n          5.0,\n          10.0\n        ],\n        \"semantic_type\": \"\",\n        \"description\": \"\"\n      }\n    },\n    {\n      \"column\": \"SUGARS\",\n      \"properties\": {\n        \"dtype\": \"number\",\n        \"std\": 4,\n        \"min\": -1,\n        \"max\": 15,\n        \"num_unique_values\": 17,\n        \"samples\": [\n          6,\n          8\n        ],\n        \"semantic_type\": \"\",\n        \"description\": \"\"\n      }\n    },\n    {\n      \"column\": \"POTASS\",\n      \"properties\": {\n        \"dtype\": \"number\",\n        \"std\": 71,\n        \"min\": -1,\n        \"max\": 330,\n        \"num_unique_values\": 36,\n        \"samples\": [\n          115,\n          55\n        ],\n        \"semantic_type\": \"\",\n        \"description\": \"\"\n      }\n    },\n    {\n      \"column\": \"VITAMINS\",\n      \"properties\": {\n        \"dtype\": \"number\",\n        \"std\": 22,\n        \"min\": 0,\n        \"max\": 100,\n        \"num_unique_values\": 3,\n        \"samples\": [\n          25,\n          0\n        ],\n        \"semantic_type\": \"\",\n        \"description\": \"\"\n      }\n    },\n    {\n      \"column\": \"SHELF\",\n      \"properties\": {\n        \"dtype\": \"number\",\n        \"std\": 0,\n        \"min\": 1,\n        \"max\": 3,\n        \"num_unique_values\": 3,\n        \"samples\": [\n          3,\n          1\n        ],\n        \"semantic_type\": \"\",\n        \"description\": \"\"\n      }\n    },\n    {\n      \"column\": \"WEIGHT\",\n      \"properties\": {\n        \"dtype\": \"number\",\n        \"std\": 0.15047679973689215,\n        \"min\": 0.5,\n        \"max\": 1.5,\n        \"num_unique_values\": 7,\n        \"samples\": [\n          1.0,\n          1.33\n        ],\n        \"semantic_type\": \"\",\n        \"description\": \"\"\n      }\n    },\n    {\n      \"column\": \"CUPS\",\n      \"properties\": {\n        \"dtype\": \"number\",\n        \"std\": 0.2327161384469139,\n        \"min\": 0.25,\n        \"max\": 1.5,\n        \"num_unique_values\": 12,\n        \"samples\": [\n          1.5,\n          1.33\n        ],\n        \"semantic_type\": \"\",\n        \"description\": \"\"\n      }\n    },\n    {\n      \"column\": \"RATING\",\n      \"properties\": {\n        \"dtype\": \"number\",\n        \"std\": 14.047288743735217,\n        \"min\": 18.042851,\n        \"max\": 93.704912,\n        \"num_unique_values\": 77,\n        \"samples\": [\n          34.384843,\n          21.871292\n        ],\n        \"semantic_type\": \"\",\n        \"description\": \"\"\n      }\n    }\n  ]\n}"
            }
          },
          "metadata": {},
          "execution_count": 2
        }
      ]
    },
    {
      "cell_type": "markdown",
      "source": [
        "# Q1"
      ],
      "metadata": {
        "id": "yHR2YNv48Vf1"
      }
    },
    {
      "cell_type": "markdown",
      "source": [
        "\n",
        "\n",
        "### **Define the Hypothesis:**\n",
        "- Null Hypothesis (H0): The observed distribution of preferences for different cereal flavors is the same as the expected distribution.\n",
        "\n",
        "- Alternative Hypothesis (H1): The observed distribution of preferences for different cereal flavors is different from the expected distribution."
      ],
      "metadata": {
        "id": "3v7F4Uwwah02"
      }
    },
    {
      "cell_type": "markdown",
      "source": [
        "### Perform the Chi-Square Test:\n"
      ],
      "metadata": {
        "id": "Zu2A482iar8T"
      }
    },
    {
      "cell_type": "code",
      "source": [
        "# Observed frequencies\n",
        "observed = np.array([50, 30, 60, 40])\n",
        "\n",
        "# Expected frequencies (total customers = sum of observed)\n",
        "total_customers = np.sum(observed)\n",
        "expected = total_customers * np.array([0.25, 0.25, 0.25, 0.25])\n",
        "\n",
        "# Perform Chi-Square test\n",
        "chi2_stat, p_value = stats.chisquare(f_obs=observed, f_exp=expected)\n",
        "\n",
        "# Degrees of freedom\n",
        "df = len(observed) - 1\n",
        "\n",
        "# Print the results\n",
        "print(f\"Chi-Square Statistic: {chi2_stat}\")\n",
        "print(f\"P-Value: {p_value}\")\n",
        "\n",
        "# Interpretation\n",
        "alpha = 0.05\n",
        "if p_value > alpha:\n",
        "    print(\"Fail to reject the null hypothesis (H0).\")\n",
        "    print(\"There is no significant difference between the observed and expected distributions.\")\n",
        "else:\n",
        "    print(\"Reject the null hypothesis (H0).\")\n",
        "    print(\"There is a significant difference between the observed and expected distributions.\")\n",
        "#print(chi2_stat, p_value, df)"
      ],
      "metadata": {
        "colab": {
          "base_uri": "https://localhost:8080/"
        },
        "id": "B975gN6Z-DZY",
        "outputId": "1e22cfd9-7f87-4794-b2a5-7dd53333eb5f"
      },
      "execution_count": null,
      "outputs": [
        {
          "output_type": "stream",
          "name": "stdout",
          "text": [
            "Chi-Square Statistic: 11.11111111111111\n",
            "P-Value: 0.011139980641667716\n",
            "Reject the null hypothesis (H0).\n",
            "There is a significant difference between the observed and expected distributions.\n"
          ]
        }
      ]
    },
    {
      "cell_type": "markdown",
      "source": [
        "### **Interpretation:**\n",
        "Significance Level (α = 0.05): The threshold to determine statistical significance.\n",
        "\n",
        "**p-value (0.0111) < α (0.05):** We reject the null hypothesis. This means that the observed distribution is different from the expected distribution.\n",
        "\n",
        "**Final Conclusion:**\n",
        "Given a significance level of α = 0.05, the observed distribution of preferences for the different cereal flavors among customers differs significantly from the expected distribution."
      ],
      "metadata": {
        "id": "A-flO0oKcW4f"
      }
    },
    {
      "cell_type": "markdown",
      "source": [
        "# Q2"
      ],
      "metadata": {
        "id": "3ONGzLDz7oiQ"
      }
    },
    {
      "cell_type": "markdown",
      "source": [
        "### 1. Define the Hypotheses for the T-test\n",
        "\n",
        "- **Null Hypothesis (H₀):** The mean ratings of the cereals for the two packaging methods are equal.\n",
        "  \n",
        "  $H_0: \\mu_1 = \\mu_2$\n",
        "  \n",
        "\n",
        "- **Alternative Hypothesis (H₁):** The mean ratings of the cereals for the two packaging methods are not equal.\n",
        "  \n",
        "  $H_1: \\mu_1 \\not = \\mu_2$"
      ],
      "metadata": {
        "id": "jhuz5-r3czE7"
      }
    },
    {
      "cell_type": "markdown",
      "source": [
        "\n",
        "### 2. Perform the T-test and Interpret the Results"
      ],
      "metadata": {
        "id": "GdpIZnVw8KbH"
      }
    },
    {
      "cell_type": "code",
      "source": [
        "# Sample data\n",
        "type1 = np.array([80, 85, 82, 90, 78, 88, 83, 86, 79, 81, 84, 87, 85, 89, 82, 86, 84, 88, 90, 85])\n",
        "type2 = np.array([75, 80, 78, 76, 82, 81, 77, 79, 74, 80, 78, 82, 76, 80, 78, 81, 79, 83, 75, 78])\n",
        "\n",
        "# Perform two-sample t-test\n",
        "t_statistic, p_value = stats.ttest_ind(type1, type2)\n",
        "\n",
        "# Print the result\n",
        "print(f\"T-statistic: {t_statistic}\")\n",
        "print(f\"P-value: {p_value:.8f}\")\n",
        "\n",
        "# Interpretation\n",
        "alpha = 0.05\n",
        "if p_value > alpha:\n",
        "    print(\"Fail to reject the null hypothesis (H0).\")\n",
        "    print(\"There is no significant difference between the mean ratings of the two packaging methods.\")\n",
        "else:\n",
        "    print(\"Reject the null hypothesis (H0).\")\n",
        "    print(\"There is a significant difference between the mean ratings of the two packaging methods.\")"
      ],
      "metadata": {
        "id": "MaRXsY8Y_v2K",
        "outputId": "5daafcb1-f68c-4939-9c2f-a12e04c07e3d",
        "colab": {
          "base_uri": "https://localhost:8080/"
        }
      },
      "execution_count": null,
      "outputs": [
        {
          "output_type": "stream",
          "name": "stdout",
          "text": [
            "T-statistic: 6.150760799045891\n",
            "P-value: 0.00000035\n",
            "Reject the null hypothesis (H0).\n",
            "There is a significant difference between the mean ratings of the two packaging methods.\n"
          ]
        }
      ]
    },
    {
      "cell_type": "markdown",
      "source": [
        "### 3. Interpretation with Significance Level α = 0.05\n",
        "\n",
        "- **p-value (0.00000035) < α (0.05):**\n",
        "We reject the null hypothesis. This means  that there is a significant difference between the mean ratings of the two packaging methods.\n",
        "\n",
        "### Final Interpretation\n",
        "Since the p-value is extreamly small, we reject the null hypothesis with higher level of confidence."
      ],
      "metadata": {
        "id": "soAtDkf8eN5Z"
      }
    },
    {
      "cell_type": "markdown",
      "source": [
        "# Q3"
      ],
      "metadata": {
        "id": "nU_Uta9wg5KQ"
      }
    },
    {
      "cell_type": "code",
      "source": [
        "data.columns"
      ],
      "metadata": {
        "colab": {
          "base_uri": "https://localhost:8080/"
        },
        "id": "0ny_gI-wifh8",
        "outputId": "d763bdf9-62b5-4a70-bcf8-d2e8328e94c3"
      },
      "execution_count": null,
      "outputs": [
        {
          "output_type": "execute_result",
          "data": {
            "text/plain": [
              "Index(['NAME', 'MANUF', 'TYPE', 'CALORIES', 'PROTEIN', 'FAT', 'SODIUM',\n",
              "       'FIBER', 'CARBO', 'SUGARS', 'POTASS', 'VITAMINS', 'SHELF', 'WEIGHT',\n",
              "       'CUPS', 'RATING'],\n",
              "      dtype='object')"
            ]
          },
          "metadata": {},
          "execution_count": 5
        }
      ]
    },
    {
      "cell_type": "code",
      "source": [
        "# Define the predictor and response variables for simple regression\n",
        "X_simple = data['FIBER']\n",
        "X_simple = sm.add_constant(X_simple)\n",
        "y = data['RATING']\n",
        "\n",
        "# Fit the simple regression model\n",
        "simple_model = sm.OLS(y, X_simple).fit()\n",
        "\n",
        "# Predict the values for the simple regression model\n",
        "y_pred_simple = simple_model.predict(X_simple)\n",
        "\n",
        "# Calculate MSE and RMSE for the simple regression model\n",
        "mse_simple = np.mean((y - y_pred_simple) ** 2)\n",
        "rmse_simple = np.sqrt(mse_simple)\n",
        "\n",
        "# Print the summary of the regression model\n",
        "print(simple_model.summary())"
      ],
      "metadata": {
        "colab": {
          "base_uri": "https://localhost:8080/"
        },
        "id": "f1OOwRGaiIHQ",
        "outputId": "8eb809e8-72f6-4ed9-ad63-17826c693ed2"
      },
      "execution_count": null,
      "outputs": [
        {
          "output_type": "stream",
          "name": "stdout",
          "text": [
            "                            OLS Regression Results                            \n",
            "==============================================================================\n",
            "Dep. Variable:                 RATING   R-squared:                       0.341\n",
            "Model:                            OLS   Adj. R-squared:                  0.332\n",
            "Method:                 Least Squares   F-statistic:                     38.85\n",
            "Date:                Sat, 07 Dec 2024   Prob (F-statistic):           2.45e-08\n",
            "Time:                        10:51:28   Log-Likelihood:                -296.15\n",
            "No. Observations:                  77   AIC:                             596.3\n",
            "Df Residuals:                      75   BIC:                             601.0\n",
            "Df Model:                           1                                         \n",
            "Covariance Type:            nonrobust                                         \n",
            "==============================================================================\n",
            "                 coef    std err          t      P>|t|      [0.025      0.975]\n",
            "------------------------------------------------------------------------------\n",
            "const         35.2566      1.767     19.948      0.000      31.736      38.777\n",
            "FIBER          3.4430      0.552      6.233      0.000       2.343       4.543\n",
            "==============================================================================\n",
            "Omnibus:                        5.021   Durbin-Watson:                   1.578\n",
            "Prob(Omnibus):                  0.081   Jarque-Bera (JB):                4.961\n",
            "Skew:                           0.617   Prob(JB):                       0.0837\n",
            "Kurtosis:                       2.840   Cond. No.                         4.52\n",
            "==============================================================================\n",
            "\n",
            "Notes:\n",
            "[1] Standard Errors assume that the covariance matrix of the errors is correctly specified.\n"
          ]
        }
      ]
    },
    {
      "cell_type": "code",
      "source": [
        "# 1. Estimated Regression Equation\n",
        "intercept = simple_model.params['const']\n",
        "slope = simple_model.params['FIBER']\n",
        "print(f\"Estimated Regression Equation: Y = {intercept:.2f} + {slope:.2f} * X\")\n",
        "\n",
        "# 2. Estimated Rating for 3 Grams of Fiber\n",
        "fiber_content = 3\n",
        "predicted_rating = simple_model.predict([1, fiber_content])  # [1, fiber_content] for intercept and slope\n",
        "print(f\"Estimated Rating for {fiber_content} grams of fiber: {predicted_rating[0]:.2f}\")\n",
        "\n",
        "# 3. 95% Confidence Interval for True Mean Rating at 3 grams of fiber\n",
        "# Calculate the standard error of the prediction\n",
        "predictions = simple_model.get_prediction([1, fiber_content])\n",
        "summary_frame = predictions.summary_frame(alpha=0.05)  # 95% CI\n",
        "\n",
        "print(f\"95% Confidence Interval for the true mean rating at {fiber_content} grams of fiber: \"\n",
        "      f\"({summary_frame['obs_ci_lower'][0]:.2f}, {summary_frame['obs_ci_upper'][0]:.2f})\")\n",
        "\n",
        "# 4. Meaning of 3 in the Regression Equation\n",
        "# The slope indicates how much the rating increases for each additional gram of fiber.\n",
        "print(f\"The slope ({slope:.2f}) indicates that for each additional gram of fiber, \"\n",
        "      f\"the rating is expected to increase by {slope:.2f} units.\")\n"
      ],
      "metadata": {
        "colab": {
          "base_uri": "https://localhost:8080/"
        },
        "id": "tvXRZYpOivD_",
        "outputId": "b4849bc9-0134-444a-c35f-19371cddc0df"
      },
      "execution_count": null,
      "outputs": [
        {
          "output_type": "stream",
          "name": "stdout",
          "text": [
            "Estimated Regression Equation: Y = 35.26 + 3.44 * X\n",
            "Estimated Rating for 3 grams of fiber: 45.59\n",
            "95% Confidence Interval for the true mean rating at 3 grams of fiber: (22.56, 68.62)\n",
            "The slope (3.44) indicates that for each additional gram of fiber, the rating is expected to increase by 3.44 units.\n"
          ]
        }
      ]
    },
    {
      "cell_type": "markdown",
      "source": [
        "### Summary\n",
        "- Estimated Regression Equation: This equation helps predict the rating of cereals based on their fiber content.\n",
        "\n",
        "- Slope and Intercept: The slope indicates how much the rating changes with each gram of fiber, while the intercept is the rating when fiber content is zero.\n",
        "\n",
        "- Estimated Rating for 3 Grams of Fiber: This is the predicted rating for cereals with 3 grams of fiber.\n",
        "\n",
        "- 95% Confidence Interval: This interval gives a range within which we can be 95% confident that the true mean rating for cereals with 3 grams of fiber lies.\n",
        "\n",
        "- Meaning of 3: It is the specific value of fiber content used in the regression equation to make predictions."
      ],
      "metadata": {
        "id": "UttLSA7QkgOs"
      }
    },
    {
      "cell_type": "markdown",
      "source": [
        "# Q4"
      ],
      "metadata": {
        "id": "BJn2n2atkydP"
      }
    },
    {
      "cell_type": "markdown",
      "source": [
        "- Model Accuracy: The R-squared value gives an indication of how well the model explains the variability in the ratings.\n",
        "\n",
        "  $R^2$ (R Squared): <br>\n",
        "  $R^2 = 1- \\frac{SS_{Regression}}{SS_{Total}}$\n",
        "\n",
        "  MSE (Mean Squared Error):\n",
        "  $\n",
        "  \\text{MSE} = \\frac{1}{n} \\sum_{i=1}^{n} (y_i - \\hat{y}_i)^2\n",
        "  $\n",
        "\n",
        "  RMSE (Root Mean Squared Error):\n",
        "  $\n",
        "  \\text{RMSE} = \\sqrt{\\text{MSE}}\n",
        "  $\n",
        "\n",
        "- 95% Prediction Interval: The interval is derived using the summary_frame method, also corrected with iloc to access values by position.\n",
        "\n",
        "- Plot: A scatter plot of the data points along with the regression line is created to visualize the relationship between fiber content and rating."
      ],
      "metadata": {
        "id": "Ovjm2wa1nq01"
      }
    },
    {
      "cell_type": "code",
      "source": [
        "# Estimate the prediction error and evaluate model accuracy using R-squared\n",
        "r_squared = simple_model.rsquared\n",
        "print(f\"R-squared: {r_squared:.2f}\")\n",
        "\n",
        "# Create a 95% prediction interval for a cereal with a fiber content of 3 grams\n",
        "pred_int = summary_frame.loc[:, ['obs_ci_lower', 'obs_ci_upper']]\n",
        "print(f\"95% Prediction Interval for a cereal with 3 grams of fiber: ({pred_int.iloc[0, 0]:.2f}, {pred_int.iloc[0, 1]:.2f})\")\n",
        "\n",
        "# Plot the rating against fiber content\n",
        "plt.scatter(data['FIBER'], data['RATING'], label='Data points')\n",
        "plt.plot(data['FIBER'], intercept + slope * data['FIBER'], color='red', label='Regression line')\n",
        "plt.xlabel('Fiber Content')\n",
        "plt.ylabel('Rating')\n",
        "plt.title('Rating vs. Fiber Content')\n",
        "plt.legend()\n",
        "plt.show()"
      ],
      "metadata": {
        "colab": {
          "base_uri": "https://localhost:8080/",
          "height": 508
        },
        "id": "lj8oQJRapmkf",
        "outputId": "773369f7-5b01-4810-a457-951571a6e981"
      },
      "execution_count": null,
      "outputs": [
        {
          "output_type": "stream",
          "name": "stdout",
          "text": [
            "R-squared: 0.34\n",
            "95% Prediction Interval for a cereal with 3 grams of fiber: (22.56, 68.62)\n"
          ]
        },
        {
          "output_type": "display_data",
          "data": {
            "text/plain": [
              "<Figure size 640x480 with 1 Axes>"
            ],
            "image/png": "[encoded data removed]"
          },
          "metadata": {}
        }
      ]
    },
    {
      "cell_type": "markdown",
      "source": [
        "# Q5"
      ],
      "metadata": {
        "id": "oYIBko4Hk5Pk"
      }
    },
    {
      "cell_type": "code",
      "source": [
        "# Define the predictor and response variables\n",
        "X = data[['FIBER', 'SUGARS']]\n",
        "y = data['RATING']\n",
        "\n",
        "# Add a constant to the predictor (intercept)\n",
        "X = sm.add_constant(X)\n",
        "\n",
        "# Fit the multiple regression model\n",
        "multiple_model = sm.OLS(y, X).fit()\n",
        "\n",
        "# Predict the values for the multiple regression model\n",
        "y_pred_multiple = multiple_model.predict(X)\n",
        "\n",
        "# Print the regression summary\n",
        "print(multiple_model.summary())"
      ],
      "metadata": {
        "id": "BBDcjR2sk6ua",
        "colab": {
          "base_uri": "https://localhost:8080/"
        },
        "outputId": "52d7fd5e-f33c-4287-e56d-5a22aa471701"
      },
      "execution_count": null,
      "outputs": [
        {
          "output_type": "stream",
          "name": "stdout",
          "text": [
            "                            OLS Regression Results                            \n",
            "==============================================================================\n",
            "Dep. Variable:                 RATING   R-squared:                       0.809\n",
            "Model:                            OLS   Adj. R-squared:                  0.804\n",
            "Method:                 Least Squares   F-statistic:                     156.9\n",
            "Date:                Sat, 07 Dec 2024   Prob (F-statistic):           2.43e-27\n",
            "Time:                        10:52:05   Log-Likelihood:                -248.45\n",
            "No. Observations:                  77   AIC:                             502.9\n",
            "Df Residuals:                      74   BIC:                             509.9\n",
            "Df Model:                           2                                         \n",
            "Covariance Type:            nonrobust                                         \n",
            "==============================================================================\n",
            "                 coef    std err          t      P>|t|      [0.025      0.975]\n",
            "------------------------------------------------------------------------------\n",
            "const         51.6097      1.546     33.376      0.000      48.529      54.691\n",
            "FIBER          2.8679      0.302      9.486      0.000       2.265       3.470\n",
            "SUGARS        -2.1837      0.162    -13.470      0.000      -2.507      -1.861\n",
            "==============================================================================\n",
            "Omnibus:                        5.365   Durbin-Watson:                   1.759\n",
            "Prob(Omnibus):                  0.068   Jarque-Bera (JB):                5.382\n",
            "Skew:                           0.640   Prob(JB):                       0.0678\n",
            "Kurtosis:                       2.800   Cond. No.                         18.6\n",
            "==============================================================================\n",
            "\n",
            "Notes:\n",
            "[1] Standard Errors assume that the covariance matrix of the errors is correctly specified.\n"
          ]
        }
      ]
    },
    {
      "cell_type": "markdown",
      "source": [
        "As you can see in the multiple regression report, R-squared of multiple regression is **0.809**. However R-squared of simple regression was 0.34. It means that, multiple regression model fits on the data points better than simple model, same as our expectation."
      ],
      "metadata": {
        "id": "yT7ejrd6UFx4"
      }
    },
    {
      "cell_type": "code",
      "source": [
        "# Extract the coefficients\n",
        "intercept, fiber_coef, sugars_coef = multiple_model.params\n",
        "\n",
        "intercept, fiber_coef, sugars_coef"
      ],
      "metadata": {
        "colab": {
          "base_uri": "https://localhost:8080/"
        },
        "id": "GISKL2bRuKUV",
        "outputId": "0c6e8da4-1012-423c-930d-95e56f3ce27e"
      },
      "execution_count": null,
      "outputs": [
        {
          "output_type": "execute_result",
          "data": {
            "text/plain": [
              "(51.6096561036772, 2.867922886488777, -2.1836755314715472)"
            ]
          },
          "metadata": {},
          "execution_count": 11
        }
      ]
    },
    {
      "cell_type": "markdown",
      "source": [
        "### Explanation of Fiber Coefficient ($𝛽_{fiber}$):\n",
        "This value indicates the change in the rating for each one-unit increase in fiber content, holding the amount of sugars constant."
      ],
      "metadata": {
        "id": "ZPd7SJhVVsvr"
      }
    },
    {
      "cell_type": "code",
      "source": [
        "# Predict the values for the simple regression model\n",
        "y_pred_simple = simple_model.predict(X_simple)\n",
        "\n",
        "# Calculate MSE and RMSE for the simple regression model\n",
        "mse_simple = np.mean((y - y_pred_simple) ** 2)\n",
        "rmse_simple = np.sqrt(mse_simple)\n",
        "# Calculate MSE and RMSE for the multiple regression model\n",
        "mse_multiple = np.mean((y - y_pred_multiple) ** 2)\n",
        "rmse_multiple = np.sqrt(mse_multiple)\n",
        "\n",
        "# Print the results\n",
        "print(f\"MSE (Simple Regression): {mse_simple:.2f}\")\n",
        "print(f\"RMSE (Simple Regression): {rmse_simple:.2f}\")\n",
        "print(f\"MSE (Multiple Regression): {mse_multiple:.2f}\")\n",
        "print(f\"RMSE (Multiple Regression): {rmse_multiple:.2f}\")"
      ],
      "metadata": {
        "colab": {
          "base_uri": "https://localhost:8080/"
        },
        "id": "ynv-qT_ntAIM",
        "outputId": "2039193a-f623-4d09-ef75-aed6d915d37f"
      },
      "execution_count": null,
      "outputs": [
        {
          "output_type": "stream",
          "name": "stdout",
          "text": [
            "MSE (Simple Regression): 128.30\n",
            "RMSE (Simple Regression): 11.33\n",
            "MSE (Multiple Regression): 37.17\n",
            "RMSE (Multiple Regression): 6.10\n"
          ]
        }
      ]
    },
    {
      "cell_type": "markdown",
      "source": [
        "Same as our expectation, error in second model is smaller than first model because second one considers 2 predictors (fiber & sugar) so it's reasonable to decrease MSE."
      ],
      "metadata": {
        "id": "xtHTOD-4WR3N"
      }
    },
    {
      "cell_type": "code",
      "source": [
        "# Extract the standard errors (s)\n",
        "s_simple = simple_model.mse_resid ** 0.5\n",
        "s_multiple = multiple_model.mse_resid ** 0.5\n",
        "\n",
        "print(f\"Standard Error (Simple Regression): {s_simple:.2f}\")\n",
        "print(f\"Standard Error (Multiple Regression): {s_multiple:.2f}\")"
      ],
      "metadata": {
        "colab": {
          "base_uri": "https://localhost:8080/"
        },
        "id": "cDBHRg4etV1_",
        "outputId": "37933502-0d6e-491e-de35-3e8a84dc56d5"
      },
      "execution_count": null,
      "outputs": [
        {
          "output_type": "stream",
          "name": "stdout",
          "text": [
            "Standard Error (Simple Regression): 11.48\n",
            "Standard Error (Multiple Regression): 6.22\n"
          ]
        }
      ]
    },
    {
      "cell_type": "markdown",
      "source": [
        "### Visualization"
      ],
      "metadata": {
        "id": "a67FvubiWMMO"
      }
    },
    {
      "cell_type": "code",
      "source": [
        "from mpl_toolkits.mplot3d import Axes3D\n",
        "\n",
        "# Plot the data points and regression plane\n",
        "fig = plt.figure()\n",
        "ax = fig.add_subplot(111, projection='3d')\n",
        "\n",
        "# Scatter plot of the observed ratings\n",
        "ax.scatter(data['FIBER'], data['SUGARS'], data['RATING'], label='Observed ratings', c='b')\n",
        "\n",
        "# Create a mesh grid for plotting the regression plane\n",
        "fiber_range = np.linspace(data['FIBER'].min(), data['FIBER'].max(), 10)\n",
        "sugars_range = np.linspace(data['SUGARS'].min(), data['SUGARS'].max(), 10)\n",
        "fiber_mesh, sugars_mesh = np.meshgrid(fiber_range, sugars_range)\n",
        "rating_mesh = multiple_model.params[0] + multiple_model.params[1] * fiber_mesh + multiple_model.params[2] * sugars_mesh\n",
        "\n",
        "# Plot the regression plane\n",
        "ax.plot_surface(fiber_mesh, sugars_mesh, rating_mesh, color='r', alpha=0.5)\n",
        "\n",
        "# Labels and title\n",
        "ax.set_xlabel('Fiber Content')\n",
        "ax.set_ylabel('Sugars Content')\n",
        "ax.set_zlabel('Rating')\n",
        "ax.set_title('Rating vs. Fiber and Sugars Content')\n",
        "ax.legend()\n",
        "\n",
        "plt.show()\n"
      ],
      "metadata": {
        "colab": {
          "base_uri": "https://localhost:8080/",
          "height": 494
        },
        "id": "x4QPJSdSwYNw",
        "outputId": "47b618bd-e397-416b-9bf2-06fd7de15b55"
      },
      "execution_count": null,
      "outputs": [
        {
          "output_type": "stream",
          "name": "stderr",
          "text": [
            "<ipython-input-17-7fa2a1600bca>:14: FutureWarning: Series.__getitem__ treating keys as positions is deprecated. In a future version, integer keys will always be treated as labels (consistent with DataFrame behavior). To access a value by position, use `ser.iloc[pos]`\n",
            "  rating_mesh = multiple_model.params[0] + multiple_model.params[1] * fiber_mesh + multiple_model.params[2] * sugars_mesh\n"
          ]
        },
        {
          "output_type": "display_data",
          "data": {
            "text/plain": [
              "<Figure size 640x480 with 1 Axes>"
            ],
            "image/png": "[encoded data removed]"
          },
          "metadata": {}
        }
      ]
    }
  ]
}