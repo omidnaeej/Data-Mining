{
 "cells": [
  {
   "cell_type": "code",
   "execution_count": 1,
   "metadata": {},
   "outputs": [],
   "source": [
    "import numpy as np\n",
    "import pandas as pd\n",
    "import matplotlib.pyplot as plt"
   ]
  },
  {
   "cell_type": "markdown",
   "metadata": {},
   "source": [
    "### **Loading `Churn` Dataset**"
   ]
  },
  {
   "cell_type": "code",
   "execution_count": 2,
   "metadata": {},
   "outputs": [],
   "source": [
    "# Read the CSV file\n",
    "df = pd.read_csv('D:\\CS-UT\\_Data_Mining\\Churn(preprocessing).csv')"
   ]
  },
  {
   "cell_type": "code",
   "execution_count": 3,
   "metadata": {},
   "outputs": [
    {
     "name": "stdout",
     "output_type": "stream",
     "text": [
      "<class 'pandas.core.frame.DataFrame'>\n",
      "RangeIndex: 3333 entries, 0 to 3332\n",
      "Data columns (total 21 columns):\n",
      " #   Column          Non-Null Count  Dtype  \n",
      "---  ------          --------------  -----  \n",
      " 0   State           3333 non-null   object \n",
      " 1   Account Length  3333 non-null   int64  \n",
      " 2   Area Code       3333 non-null   int64  \n",
      " 3   Phone           3333 non-null   object \n",
      " 4   Int'l Plan      3166 non-null   object \n",
      " 5   VMail Plan      3166 non-null   object \n",
      " 6   VMail Message   3166 non-null   float64\n",
      " 7   Day Mins        3166 non-null   float64\n",
      " 8   Day Calls       3166 non-null   float64\n",
      " 9   Day Charge      3166 non-null   float64\n",
      " 10  Eve Mins        3166 non-null   float64\n",
      " 11  Eve Calls       3166 non-null   float64\n",
      " 12  Eve Charge      3166 non-null   float64\n",
      " 13  Night Mins      3166 non-null   float64\n",
      " 14  Night Calls     3166 non-null   float64\n",
      " 15  Night Charge    3166 non-null   float64\n",
      " 16  Intl Mins       3166 non-null   float64\n",
      " 17  Intl Calls      3166 non-null   float64\n",
      " 18  Intl Charge     3166 non-null   float64\n",
      " 19  CustServ Calls  3166 non-null   float64\n",
      " 20  Churn.          3166 non-null   object \n",
      "dtypes: float64(14), int64(2), object(5)\n",
      "memory usage: 546.9+ KB\n"
     ]
    }
   ],
   "source": [
    "df.info()"
   ]
  },
  {
   "cell_type": "markdown",
   "metadata": {},
   "source": [
    "number of missing data in each field:"
   ]
  },
  {
   "cell_type": "code",
   "execution_count": 4,
   "metadata": {},
   "outputs": [
    {
     "data": {
      "text/plain": [
       "State               0\n",
       "Account Length      0\n",
       "Area Code           0\n",
       "Phone               0\n",
       "Int'l Plan        167\n",
       "VMail Plan        167\n",
       "VMail Message     167\n",
       "Day Mins          167\n",
       "Day Calls         167\n",
       "Day Charge        167\n",
       "Eve Mins          167\n",
       "Eve Calls         167\n",
       "Eve Charge        167\n",
       "Night Mins        167\n",
       "Night Calls       167\n",
       "Night Charge      167\n",
       "Intl Mins         167\n",
       "Intl Calls        167\n",
       "Intl Charge       167\n",
       "CustServ Calls    167\n",
       "Churn.            167\n",
       "dtype: int64"
      ]
     },
     "execution_count": 4,
     "metadata": {},
     "output_type": "execute_result"
    }
   ],
   "source": [
    "df.isnull().sum()"
   ]
  },
  {
   "cell_type": "code",
   "execution_count": 5,
   "metadata": {},
   "outputs": [
    {
     "data": {
      "text/html": [
       "<div>\n",
       "<style scoped>\n",
       "    .dataframe tbody tr th:only-of-type {\n",
       "        vertical-align: middle;\n",
       "    }\n",
       "\n",
       "    .dataframe tbody tr th {\n",
       "        vertical-align: top;\n",
       "    }\n",
       "\n",
       "    .dataframe thead th {\n",
       "        text-align: right;\n",
       "    }\n",
       "</style>\n",
       "<table border=\"1\" class=\"dataframe\">\n",
       "  <thead>\n",
       "    <tr style=\"text-align: right;\">\n",
       "      <th></th>\n",
       "      <th>Account Length</th>\n",
       "      <th>Area Code</th>\n",
       "      <th>VMail Message</th>\n",
       "      <th>Day Mins</th>\n",
       "      <th>Day Calls</th>\n",
       "      <th>Day Charge</th>\n",
       "      <th>Eve Mins</th>\n",
       "      <th>Eve Calls</th>\n",
       "      <th>Eve Charge</th>\n",
       "      <th>Night Mins</th>\n",
       "      <th>Night Calls</th>\n",
       "      <th>Night Charge</th>\n",
       "      <th>Intl Mins</th>\n",
       "      <th>Intl Calls</th>\n",
       "      <th>Intl Charge</th>\n",
       "      <th>CustServ Calls</th>\n",
       "    </tr>\n",
       "  </thead>\n",
       "  <tbody>\n",
       "    <tr>\n",
       "      <th>count</th>\n",
       "      <td>3333.000000</td>\n",
       "      <td>3333.000000</td>\n",
       "      <td>3166.000000</td>\n",
       "      <td>3166.000000</td>\n",
       "      <td>3166.000000</td>\n",
       "      <td>3166.000000</td>\n",
       "      <td>3166.000000</td>\n",
       "      <td>3166.000000</td>\n",
       "      <td>3166.000000</td>\n",
       "      <td>3166.000000</td>\n",
       "      <td>3166.000000</td>\n",
       "      <td>3166.000000</td>\n",
       "      <td>3166.000000</td>\n",
       "      <td>3166.000000</td>\n",
       "      <td>3166.000000</td>\n",
       "      <td>3166.000000</td>\n",
       "    </tr>\n",
       "    <tr>\n",
       "      <th>mean</th>\n",
       "      <td>101.064806</td>\n",
       "      <td>437.182418</td>\n",
       "      <td>7.066014</td>\n",
       "      <td>179.573563</td>\n",
       "      <td>100.389766</td>\n",
       "      <td>30.465351</td>\n",
       "      <td>199.969931</td>\n",
       "      <td>100.562539</td>\n",
       "      <td>17.381617</td>\n",
       "      <td>201.116709</td>\n",
       "      <td>99.194567</td>\n",
       "      <td>8.390777</td>\n",
       "      <td>9.653190</td>\n",
       "      <td>5.266267</td>\n",
       "      <td>2.485250</td>\n",
       "      <td>1.554011</td>\n",
       "    </tr>\n",
       "    <tr>\n",
       "      <th>std</th>\n",
       "      <td>39.822106</td>\n",
       "      <td>42.371290</td>\n",
       "      <td>13.647552</td>\n",
       "      <td>54.513905</td>\n",
       "      <td>20.102667</td>\n",
       "      <td>9.305007</td>\n",
       "      <td>50.685021</td>\n",
       "      <td>19.934879</td>\n",
       "      <td>4.317994</td>\n",
       "      <td>50.542709</td>\n",
       "      <td>19.596371</td>\n",
       "      <td>2.282716</td>\n",
       "      <td>2.787857</td>\n",
       "      <td>2.491346</td>\n",
       "      <td>0.757422</td>\n",
       "      <td>1.314672</td>\n",
       "    </tr>\n",
       "    <tr>\n",
       "      <th>min</th>\n",
       "      <td>1.000000</td>\n",
       "      <td>408.000000</td>\n",
       "      <td>-1.000000</td>\n",
       "      <td>-0.100000</td>\n",
       "      <td>0.000000</td>\n",
       "      <td>-0.100000</td>\n",
       "      <td>-1.000000</td>\n",
       "      <td>0.000000</td>\n",
       "      <td>0.300000</td>\n",
       "      <td>23.400000</td>\n",
       "      <td>32.000000</td>\n",
       "      <td>0.400000</td>\n",
       "      <td>-0.700000</td>\n",
       "      <td>0.000000</td>\n",
       "      <td>-0.500000</td>\n",
       "      <td>-1.000000</td>\n",
       "    </tr>\n",
       "    <tr>\n",
       "      <th>25%</th>\n",
       "      <td>74.000000</td>\n",
       "      <td>408.000000</td>\n",
       "      <td>-1.000000</td>\n",
       "      <td>143.400000</td>\n",
       "      <td>87.000000</td>\n",
       "      <td>24.300000</td>\n",
       "      <td>165.900000</td>\n",
       "      <td>87.000000</td>\n",
       "      <td>14.400000</td>\n",
       "      <td>167.300000</td>\n",
       "      <td>86.000000</td>\n",
       "      <td>6.800000</td>\n",
       "      <td>7.900000</td>\n",
       "      <td>4.000000</td>\n",
       "      <td>2.000000</td>\n",
       "      <td>1.000000</td>\n",
       "    </tr>\n",
       "    <tr>\n",
       "      <th>50%</th>\n",
       "      <td>101.000000</td>\n",
       "      <td>415.000000</td>\n",
       "      <td>-1.000000</td>\n",
       "      <td>179.150000</td>\n",
       "      <td>101.000000</td>\n",
       "      <td>30.300000</td>\n",
       "      <td>200.500000</td>\n",
       "      <td>101.000000</td>\n",
       "      <td>17.400000</td>\n",
       "      <td>201.150000</td>\n",
       "      <td>99.000000</td>\n",
       "      <td>8.400000</td>\n",
       "      <td>9.700000</td>\n",
       "      <td>5.000000</td>\n",
       "      <td>2.500000</td>\n",
       "      <td>1.000000</td>\n",
       "    </tr>\n",
       "    <tr>\n",
       "      <th>75%</th>\n",
       "      <td>127.000000</td>\n",
       "      <td>510.000000</td>\n",
       "      <td>18.000000</td>\n",
       "      <td>216.300000</td>\n",
       "      <td>114.000000</td>\n",
       "      <td>36.700000</td>\n",
       "      <td>233.975000</td>\n",
       "      <td>114.000000</td>\n",
       "      <td>20.300000</td>\n",
       "      <td>235.600000</td>\n",
       "      <td>113.000000</td>\n",
       "      <td>10.000000</td>\n",
       "      <td>11.500000</td>\n",
       "      <td>6.000000</td>\n",
       "      <td>3.000000</td>\n",
       "      <td>2.000000</td>\n",
       "    </tr>\n",
       "    <tr>\n",
       "      <th>max</th>\n",
       "      <td>243.000000</td>\n",
       "      <td>510.000000</td>\n",
       "      <td>50.000000</td>\n",
       "      <td>350.900000</td>\n",
       "      <td>165.000000</td>\n",
       "      <td>59.500000</td>\n",
       "      <td>362.800000</td>\n",
       "      <td>170.000000</td>\n",
       "      <td>31.300000</td>\n",
       "      <td>395.100000</td>\n",
       "      <td>174.000000</td>\n",
       "      <td>17.300000</td>\n",
       "      <td>19.300000</td>\n",
       "      <td>21.000000</td>\n",
       "      <td>5.200000</td>\n",
       "      <td>9.000000</td>\n",
       "    </tr>\n",
       "  </tbody>\n",
       "</table>\n",
       "</div>"
      ],
      "text/plain": [
       "       Account Length    Area Code  VMail Message     Day Mins    Day Calls  \\\n",
       "count     3333.000000  3333.000000    3166.000000  3166.000000  3166.000000   \n",
       "mean       101.064806   437.182418       7.066014   179.573563   100.389766   \n",
       "std         39.822106    42.371290      13.647552    54.513905    20.102667   \n",
       "min          1.000000   408.000000      -1.000000    -0.100000     0.000000   \n",
       "25%         74.000000   408.000000      -1.000000   143.400000    87.000000   \n",
       "50%        101.000000   415.000000      -1.000000   179.150000   101.000000   \n",
       "75%        127.000000   510.000000      18.000000   216.300000   114.000000   \n",
       "max        243.000000   510.000000      50.000000   350.900000   165.000000   \n",
       "\n",
       "        Day Charge     Eve Mins    Eve Calls   Eve Charge   Night Mins  \\\n",
       "count  3166.000000  3166.000000  3166.000000  3166.000000  3166.000000   \n",
       "mean     30.465351   199.969931   100.562539    17.381617   201.116709   \n",
       "std       9.305007    50.685021    19.934879     4.317994    50.542709   \n",
       "min      -0.100000    -1.000000     0.000000     0.300000    23.400000   \n",
       "25%      24.300000   165.900000    87.000000    14.400000   167.300000   \n",
       "50%      30.300000   200.500000   101.000000    17.400000   201.150000   \n",
       "75%      36.700000   233.975000   114.000000    20.300000   235.600000   \n",
       "max      59.500000   362.800000   170.000000    31.300000   395.100000   \n",
       "\n",
       "       Night Calls  Night Charge    Intl Mins   Intl Calls  Intl Charge  \\\n",
       "count  3166.000000   3166.000000  3166.000000  3166.000000  3166.000000   \n",
       "mean     99.194567      8.390777     9.653190     5.266267     2.485250   \n",
       "std      19.596371      2.282716     2.787857     2.491346     0.757422   \n",
       "min      32.000000      0.400000    -0.700000     0.000000    -0.500000   \n",
       "25%      86.000000      6.800000     7.900000     4.000000     2.000000   \n",
       "50%      99.000000      8.400000     9.700000     5.000000     2.500000   \n",
       "75%     113.000000     10.000000    11.500000     6.000000     3.000000   \n",
       "max     174.000000     17.300000    19.300000    21.000000     5.200000   \n",
       "\n",
       "       CustServ Calls  \n",
       "count     3166.000000  \n",
       "mean         1.554011  \n",
       "std          1.314672  \n",
       "min         -1.000000  \n",
       "25%          1.000000  \n",
       "50%          1.000000  \n",
       "75%          2.000000  \n",
       "max          9.000000  "
      ]
     },
     "execution_count": 5,
     "metadata": {},
     "output_type": "execute_result"
    }
   ],
   "source": [
    "df.describe()"
   ]
  },
  {
   "cell_type": "code",
   "execution_count": 6,
   "metadata": {},
   "outputs": [
    {
     "data": {
      "text/plain": [
       "((3333, 21),\n",
       " Index(['State', 'Account Length', 'Area Code', 'Phone', 'Int'l Plan',\n",
       "        'VMail Plan', 'VMail Message', 'Day Mins', 'Day Calls', 'Day Charge',\n",
       "        'Eve Mins', 'Eve Calls', 'Eve Charge', 'Night Mins', 'Night Calls',\n",
       "        'Night Charge', 'Intl Mins', 'Intl Calls', 'Intl Charge',\n",
       "        'CustServ Calls', 'Churn.'],\n",
       "       dtype='object'))"
      ]
     },
     "execution_count": 6,
     "metadata": {},
     "output_type": "execute_result"
    }
   ],
   "source": [
    "df.shape, df.columns"
   ]
  },
  {
   "cell_type": "markdown",
   "metadata": {},
   "source": [
    "### **1. Handling Missing Data**"
   ]
  },
  {
   "cell_type": "markdown",
   "metadata": {},
   "source": [
    "#### `1.a` Remove rows where the \"Int’l Plan\" column contains missing values\n",
    "\n"
   ]
  },
  {
   "cell_type": "code",
   "execution_count": 7,
   "metadata": {},
   "outputs": [],
   "source": [
    "# Remove rows where the \"Int’l Plan\" column contains missing values\n",
    "df = df.dropna(subset=[\"Int'l Plan\"])"
   ]
  },
  {
   "cell_type": "code",
   "execution_count": 8,
   "metadata": {},
   "outputs": [
    {
     "data": {
      "text/plain": [
       "State               0\n",
       "Account Length      0\n",
       "Area Code           0\n",
       "Phone               0\n",
       "Int'l Plan          0\n",
       "VMail Plan        159\n",
       "VMail Message     158\n",
       "Day Mins          157\n",
       "Day Calls         154\n",
       "Day Charge        164\n",
       "Eve Mins          160\n",
       "Eve Calls         160\n",
       "Eve Charge        158\n",
       "Night Mins        158\n",
       "Night Calls       157\n",
       "Night Charge      159\n",
       "Intl Mins         160\n",
       "Intl Calls        163\n",
       "Intl Charge       160\n",
       "CustServ Calls    159\n",
       "Churn.            160\n",
       "dtype: int64"
      ]
     },
     "execution_count": 8,
     "metadata": {},
     "output_type": "execute_result"
    }
   ],
   "source": [
    "df.isnull().sum()"
   ]
  },
  {
   "cell_type": "code",
   "execution_count": 9,
   "metadata": {},
   "outputs": [
    {
     "data": {
      "text/plain": [
       "(3166, 21)"
      ]
     },
     "execution_count": 9,
     "metadata": {},
     "output_type": "execute_result"
    }
   ],
   "source": [
    "df.shape"
   ]
  },
  {
   "cell_type": "markdown",
   "metadata": {},
   "source": [
    "#### `1.b` Replace the missing values in the \"VMail Plan\" column with the mode (most frequent value)\n"
   ]
  },
  {
   "cell_type": "code",
   "execution_count": 10,
   "metadata": {},
   "outputs": [],
   "source": [
    "df = pd.read_csv('D:\\CS-UT\\_Data_Mining\\Churn(preprocessing).csv')"
   ]
  },
  {
   "cell_type": "code",
   "execution_count": 11,
   "metadata": {},
   "outputs": [
    {
     "name": "stderr",
     "output_type": "stream",
     "text": [
      "C:\\Users\\Mahoor\\AppData\\Local\\Temp\\ipykernel_21336\\2134385568.py:5: FutureWarning: A value is trying to be set on a copy of a DataFrame or Series through chained assignment using an inplace method.\n",
      "The behavior will change in pandas 3.0. This inplace method will never work because the intermediate object on which we are setting values always behaves as a copy.\n",
      "\n",
      "For example, when doing 'df[col].method(value, inplace=True)', try using 'df.method({col: value}, inplace=True)' or df[col] = df[col].method(value) instead, to perform the operation inplace on the original object.\n",
      "\n",
      "\n",
      "  df['VMail Plan'].fillna(mode_vmail_plan, inplace=True)\n"
     ]
    }
   ],
   "source": [
    "# Calculate the mode of the \"VMail Plan\" column\n",
    "mode_vmail_plan = df['VMail Plan'].mode()[0]\n",
    "\n",
    "# Replace missing values in the \"VMail Plan\" column with the mode\n",
    "df['VMail Plan'].fillna(mode_vmail_plan, inplace=True)"
   ]
  },
  {
   "cell_type": "code",
   "execution_count": 12,
   "metadata": {},
   "outputs": [
    {
     "data": {
      "text/plain": [
       "State               0\n",
       "Account Length      0\n",
       "Area Code           0\n",
       "Phone               0\n",
       "Int'l Plan        167\n",
       "VMail Plan          0\n",
       "VMail Message     167\n",
       "Day Mins          167\n",
       "Day Calls         167\n",
       "Day Charge        167\n",
       "Eve Mins          167\n",
       "Eve Calls         167\n",
       "Eve Charge        167\n",
       "Night Mins        167\n",
       "Night Calls       167\n",
       "Night Charge      167\n",
       "Intl Mins         167\n",
       "Intl Calls        167\n",
       "Intl Charge       167\n",
       "CustServ Calls    167\n",
       "Churn.            167\n",
       "dtype: int64"
      ]
     },
     "execution_count": 12,
     "metadata": {},
     "output_type": "execute_result"
    }
   ],
   "source": [
    "df.isnull().sum()"
   ]
  },
  {
   "cell_type": "markdown",
   "metadata": {},
   "source": [
    "#### `1.c` Impute the missing data in \"VMail Message\", \"Day Mins\", and \"Day Calls\":\n",
    "\n"
   ]
  },
  {
   "cell_type": "code",
   "execution_count": 13,
   "metadata": {},
   "outputs": [],
   "source": [
    "df = pd.read_csv('D:\\CS-UT\\_Data_Mining\\Churn(preprocessing).csv')"
   ]
  },
  {
   "cell_type": "markdown",
   "metadata": {},
   "source": [
    "- *VMail Message :* <br>\n",
    "    This cell calculates the mean and standard deviation of the \"VMail Message\" column, and then applies a function to each row to either set the missing value to `-1 if \"VMail Plan\" is 'no'` or replace it with a `random value from a normal distribution otherwise`."
   ]
  },
  {
   "cell_type": "code",
   "execution_count": 14,
   "metadata": {},
   "outputs": [],
   "source": [
    "# Function to impute \"VMail Message\" based on \"VMail Plan\"\n",
    "def impute_vmail_message(row, mean_vmail_message, std_vmail_message):\n",
    "    if pd.isnull(row['VMail Message']):\n",
    "        if row['VMail Plan'] == \"no\":\n",
    "            return -1\n",
    "        else:\n",
    "            return np.random.normal(mean_vmail_message, std_vmail_message)\n",
    "    return row['VMail Message']\n",
    "\n",
    "# Calculate mean and standard deviation for \"VMail Message\"\n",
    "mean_vmail_message = df['VMail Message'].mean()\n",
    "std_vmail_message = df['VMail Message'].std()\n",
    "\n",
    "# Apply the imputation function to each row\n",
    "df['VMail Message'] = df.apply(impute_vmail_message, axis=1, args=(mean_vmail_message, std_vmail_message))\n"
   ]
  },
  {
   "cell_type": "code",
   "execution_count": 15,
   "metadata": {},
   "outputs": [
    {
     "data": {
      "text/plain": [
       "State               0\n",
       "Account Length      0\n",
       "Area Code           0\n",
       "Phone               0\n",
       "Int'l Plan        167\n",
       "VMail Plan        167\n",
       "VMail Message       0\n",
       "Day Mins          167\n",
       "Day Calls         167\n",
       "Day Charge        167\n",
       "Eve Mins          167\n",
       "Eve Calls         167\n",
       "Eve Charge        167\n",
       "Night Mins        167\n",
       "Night Calls       167\n",
       "Night Charge      167\n",
       "Intl Mins         167\n",
       "Intl Calls        167\n",
       "Intl Charge       167\n",
       "CustServ Calls    167\n",
       "Churn.            167\n",
       "dtype: int64"
      ]
     },
     "execution_count": 15,
     "metadata": {},
     "output_type": "execute_result"
    }
   ],
   "source": [
    "df.isnull().sum()"
   ]
  },
  {
   "cell_type": "markdown",
   "metadata": {},
   "source": [
    "- *Day Calls :* <br>\n",
    "We'll start by filling missing values in 'Day Calls' `randomly`, using a `normal distribution`."
   ]
  },
  {
   "cell_type": "code",
   "execution_count": 16,
   "metadata": {},
   "outputs": [],
   "source": [
    "# Calculate the mean and standard deviation of the 'Day Calls' column\n",
    "mean_day_calls = df['Day Calls'].mean()\n",
    "std_day_calls = df['Day Calls'].std()\n",
    "\n",
    "# Generate random values to fill missing entries\n",
    "missing_indices = df['Day Calls'].isnull()\n",
    "random_values = np.random.normal(mean_day_calls, std_day_calls, missing_indices.sum())\n",
    "\n",
    "# Fill the missing values with the generated random values\n",
    "df.loc[missing_indices, 'Day Calls'] = random_values"
   ]
  },
  {
   "cell_type": "code",
   "execution_count": 17,
   "metadata": {},
   "outputs": [
    {
     "data": {
      "text/plain": [
       "State               0\n",
       "Account Length      0\n",
       "Area Code           0\n",
       "Phone               0\n",
       "Int'l Plan        167\n",
       "VMail Plan        167\n",
       "VMail Message       0\n",
       "Day Mins          167\n",
       "Day Calls           0\n",
       "Day Charge        167\n",
       "Eve Mins          167\n",
       "Eve Calls         167\n",
       "Eve Charge        167\n",
       "Night Mins        167\n",
       "Night Calls       167\n",
       "Night Charge      167\n",
       "Intl Mins         167\n",
       "Intl Calls        167\n",
       "Intl Charge       167\n",
       "CustServ Calls    167\n",
       "Churn.            167\n",
       "dtype: int64"
      ]
     },
     "execution_count": 17,
     "metadata": {},
     "output_type": "execute_result"
    }
   ],
   "source": [
    "df.isnull().sum()"
   ]
  },
  {
   "cell_type": "markdown",
   "metadata": {},
   "source": [
    "- *Day Mins :* <br>\n",
    "Then use `linear regression` model to predict 'Day Mins' based on 'Day Calls'..."
   ]
  },
  {
   "cell_type": "code",
   "execution_count": 18,
   "metadata": {},
   "outputs": [],
   "source": [
    "from sklearn.linear_model import LinearRegression\n",
    "\n",
    "daymins_missed_indices = df['Day Mins'].isnull()\n",
    "\n",
    "# Separate rows with and without missing 'Day Mins'\n",
    "df_no_missing = df.dropna(subset=['Day Mins'])\n",
    "df_missing = df[daymins_missed_indices]\n",
    "\n",
    "# Train a regression model\n",
    "X_train = df_no_missing[['Day Calls']]\n",
    "y_train = df_no_missing['Day Mins']\n",
    "reg = LinearRegression().fit(X_train, y_train)\n",
    "\n",
    "# Predict missing 'Day Mins' using 'Day Calls'\n",
    "X_missing = df_missing[['Day Calls']]\n",
    "df.loc[daymins_missed_indices, 'Day Mins'] = reg.predict(X_missing)"
   ]
  },
  {
   "cell_type": "code",
   "execution_count": 19,
   "metadata": {},
   "outputs": [
    {
     "data": {
      "text/plain": [
       "State               0\n",
       "Account Length      0\n",
       "Area Code           0\n",
       "Phone               0\n",
       "Int'l Plan        167\n",
       "VMail Plan        167\n",
       "VMail Message       0\n",
       "Day Mins            0\n",
       "Day Calls           0\n",
       "Day Charge        167\n",
       "Eve Mins          167\n",
       "Eve Calls         167\n",
       "Eve Charge        167\n",
       "Night Mins        167\n",
       "Night Calls       167\n",
       "Night Charge      167\n",
       "Intl Mins         167\n",
       "Intl Calls        167\n",
       "Intl Charge       167\n",
       "CustServ Calls    167\n",
       "Churn.            167\n",
       "dtype: int64"
      ]
     },
     "execution_count": 19,
     "metadata": {},
     "output_type": "execute_result"
    }
   ],
   "source": [
    "df.isnull().sum()"
   ]
  },
  {
   "cell_type": "markdown",
   "metadata": {},
   "source": [
    "#### `1.d` Impute the missing data in the \"Night Mins\" column randomly, using a normal distribution."
   ]
  },
  {
   "cell_type": "code",
   "execution_count": 20,
   "metadata": {},
   "outputs": [],
   "source": [
    "df = pd.read_csv('D:\\CS-UT\\_Data_Mining\\Churn(preprocessing).csv')"
   ]
  },
  {
   "cell_type": "code",
   "execution_count": 21,
   "metadata": {},
   "outputs": [],
   "source": [
    "# Calculate the mean and standard deviation of the \"Night Mins\" column\n",
    "mean_night_mins = df['Night Mins'].mean()\n",
    "std_night_mins = df['Night Mins'].std()\n",
    "\n",
    "# Generate random values to fill missing entries\n",
    "missing_indices = df['Night Mins'].isnull()\n",
    "random_values = np.random.normal(mean_night_mins, std_night_mins, missing_indices.sum())\n",
    "\n",
    "# Fill the missing values with the generated random values\n",
    "df.loc[missing_indices, 'Night Mins'] = random_values"
   ]
  },
  {
   "cell_type": "code",
   "execution_count": 22,
   "metadata": {},
   "outputs": [
    {
     "data": {
      "text/plain": [
       "State               0\n",
       "Account Length      0\n",
       "Area Code           0\n",
       "Phone               0\n",
       "Int'l Plan        167\n",
       "VMail Plan        167\n",
       "VMail Message     167\n",
       "Day Mins          167\n",
       "Day Calls         167\n",
       "Day Charge        167\n",
       "Eve Mins          167\n",
       "Eve Calls         167\n",
       "Eve Charge        167\n",
       "Night Mins          0\n",
       "Night Calls       167\n",
       "Night Charge      167\n",
       "Intl Mins         167\n",
       "Intl Calls        167\n",
       "Intl Charge       167\n",
       "CustServ Calls    167\n",
       "Churn.            167\n",
       "dtype: int64"
      ]
     },
     "execution_count": 22,
     "metadata": {},
     "output_type": "execute_result"
    }
   ],
   "source": [
    "df.isnull().sum()"
   ]
  },
  {
   "cell_type": "code",
   "execution_count": 23,
   "metadata": {},
   "outputs": [],
   "source": [
    "Q1_res_df = df.copy()"
   ]
  },
  {
   "cell_type": "markdown",
   "metadata": {},
   "source": [
    "----"
   ]
  },
  {
   "cell_type": "markdown",
   "metadata": {},
   "source": [
    "### **2. Identifying Outliers:**"
   ]
  },
  {
   "cell_type": "markdown",
   "metadata": {},
   "source": [
    "#### `2.a` Remove the missing values in the \"Day Charge\" column, and then identify its outliers using a graph."
   ]
  },
  {
   "cell_type": "code",
   "execution_count": 24,
   "metadata": {},
   "outputs": [],
   "source": [
    "df = pd.read_csv('D:\\CS-UT\\_Data_Mining\\Churn(preprocessing).csv')"
   ]
  },
  {
   "cell_type": "code",
   "execution_count": 25,
   "metadata": {},
   "outputs": [
    {
     "data": {
      "text/plain": [
       "State               0\n",
       "Account Length      0\n",
       "Area Code           0\n",
       "Phone               0\n",
       "Int'l Plan        164\n",
       "VMail Plan        160\n",
       "VMail Message     158\n",
       "Day Mins          158\n",
       "Day Calls         160\n",
       "Day Charge          0\n",
       "Eve Mins          158\n",
       "Eve Calls         157\n",
       "Eve Charge        157\n",
       "Night Mins        152\n",
       "Night Calls       157\n",
       "Night Charge      163\n",
       "Intl Mins         164\n",
       "Intl Calls        160\n",
       "Intl Charge       161\n",
       "CustServ Calls    156\n",
       "Churn.            159\n",
       "dtype: int64"
      ]
     },
     "execution_count": 25,
     "metadata": {},
     "output_type": "execute_result"
    }
   ],
   "source": [
    "# Remove missing values in the \"Day Charge\" column\n",
    "df = df.dropna(subset=['Day Charge'])\n",
    "\n",
    "df.isnull().sum()"
   ]
  },
  {
   "cell_type": "code",
   "execution_count": 26,
   "metadata": {},
   "outputs": [
    {
     "data": {
      "image/png": "[encoded data removed]",
      "text/plain": [
       "<Figure size 300x700 with 1 Axes>"
      ]
     },
     "metadata": {},
     "output_type": "display_data"
    }
   ],
   "source": [
    "# Plot the \"Day Charge\" column to identify outliers visually\n",
    "plt.figure(figsize=(3, 7))\n",
    "plt.boxplot(df['Day Charge'])\n",
    "plt.title(\"Boxplot of Day Charge\")\n",
    "plt.ylabel(\"Day Charge\")\n",
    "plt.show()"
   ]
  },
  {
   "cell_type": "markdown",
   "metadata": {},
   "source": [
    "#### `2.b` Identify the outliers in the \"Day Charge\" column using the Z-score method.\n"
   ]
  },
  {
   "cell_type": "code",
   "execution_count": 27,
   "metadata": {},
   "outputs": [
    {
     "name": "stdout",
     "output_type": "stream",
     "text": [
      "Outliers identified using Z-score method:\n",
      "365     343-5709\n",
      "985     345-9140\n",
      "1052    378-6772\n",
      "1345    392-2555\n",
      "1397    413-7655\n",
      "1986    405-9233\n",
      "2594    348-1163\n",
      "2736    403-1128\n",
      "2753    406-4158\n",
      "Name: Phone, dtype: object\n"
     ]
    }
   ],
   "source": [
    "from scipy.stats import zscore\n",
    "\n",
    "# Calculate Z-scores\n",
    "df['Day Charge Z-score'] = zscore(df['Day Charge'])\n",
    "\n",
    "# Identify outliers (using a threshold of |Z| > 3)\n",
    "outliers_zscore = df[abs(df['Day Charge Z-score']) > 3]\n",
    "print(\"Outliers identified using Z-score method:\")\n",
    "print(outliers_zscore['Phone'])"
   ]
  },
  {
   "cell_type": "markdown",
   "metadata": {},
   "source": [
    "#### `2.c` Identify the outliers once again using the IQR method."
   ]
  },
  {
   "cell_type": "code",
   "execution_count": 28,
   "metadata": {},
   "outputs": [
    {
     "name": "stdout",
     "output_type": "stream",
     "text": [
      "Outliers identified using IQR method:\n",
      "15      351-7269\n",
      "156     370-9116\n",
      "197     378-3625\n",
      "365     343-5709\n",
      "605     373-2053\n",
      "685     408-4530\n",
      "741     337-1225\n",
      "975     332-6181\n",
      "985     345-9140\n",
      "1052    378-6772\n",
      "1076    337-4339\n",
      "1345    392-2555\n",
      "1397    413-7655\n",
      "1621    370-9533\n",
      "1679    393-4823\n",
      "1986    405-9233\n",
      "2028    408-4836\n",
      "2124    381-9367\n",
      "2252    333-7449\n",
      "2412    373-4264\n",
      "2594    348-1163\n",
      "2736    403-1128\n",
      "2753    406-4158\n",
      "3046    357-5784\n",
      "3174    359-5091\n",
      "Name: Phone, dtype: object\n"
     ]
    }
   ],
   "source": [
    "# Calculate IQR\n",
    "Q1 = df['Day Charge'].quantile(0.25)\n",
    "Q3 = df['Day Charge'].quantile(0.75)\n",
    "IQR = Q3 - Q1\n",
    "\n",
    "# Define outliers\n",
    "lower_bound = Q1 - 1.5*IQR\n",
    "upper_bound = Q3 + 1.5*IQR\n",
    "\n",
    "# Identify outliers\n",
    "outliers_iqr = df[(df['Day Charge'] < lower_bound) | (df['Day Charge'] > upper_bound)]\n",
    "print(\"Outliers identified using IQR method:\")\n",
    "print(outliers_iqr['Phone'])"
   ]
  },
  {
   "cell_type": "markdown",
   "metadata": {},
   "source": [
    "**Comparison of the results of two methods**"
   ]
  },
  {
   "cell_type": "code",
   "execution_count": 29,
   "metadata": {},
   "outputs": [
    {
     "name": "stdout",
     "output_type": "stream",
     "text": [
      "Users identified as outliers by both methods:\n",
      "0    343-5709\n",
      "1    345-9140\n",
      "2    378-6772\n",
      "3    392-2555\n",
      "4    413-7655\n",
      "5    405-9233\n",
      "6    348-1163\n",
      "7    403-1128\n",
      "8    406-4158\n",
      "Name: Phone, dtype: object\n"
     ]
    }
   ],
   "source": [
    "# Find intersection of outliers\n",
    "common_outliers = pd.merge(outliers_zscore, outliers_iqr, on=['Phone'])\n",
    "print(\"Users identified as outliers by both methods:\")\n",
    "print(common_outliers['Phone'])"
   ]
  },
  {
   "cell_type": "code",
   "execution_count": 30,
   "metadata": {},
   "outputs": [
    {
     "data": {
      "text/plain": [
       "(9, 25, 9)"
      ]
     },
     "execution_count": 30,
     "metadata": {},
     "output_type": "execute_result"
    }
   ],
   "source": [
    "len(outliers_zscore), len(outliers_iqr), len(common_outliers)"
   ]
  },
  {
   "cell_type": "markdown",
   "metadata": {},
   "source": [
    "### **3. Data Normalization**"
   ]
  },
  {
   "cell_type": "markdown",
   "metadata": {},
   "source": [
    "#### `3.a` Normalize the data in the \"Night Mins\" column using the min-max method. (Use the completed data from question 1.)"
   ]
  },
  {
   "cell_type": "code",
   "execution_count": 31,
   "metadata": {},
   "outputs": [],
   "source": [
    "# Min-Max normalization\n",
    "Q1_res_df['Night Mins Min-Max'] = (Q1_res_df['Night Mins'] - Q1_res_df['Night Mins'].min()) / (Q1_res_df['Night Mins'].max() - Q1_res_df['Night Mins'].min())"
   ]
  },
  {
   "cell_type": "code",
   "execution_count": 32,
   "metadata": {},
   "outputs": [
    {
     "name": "stdout",
     "output_type": "stream",
     "text": [
      "   Night Mins  Night Mins Min-Max\n",
      "0       245.0            0.596180\n",
      "1       254.5            0.621738\n",
      "2       162.7            0.374765\n",
      "3       196.9            0.466774\n",
      "4       187.2            0.440678\n"
     ]
    }
   ],
   "source": [
    "# Display the first few rows to confirm\n",
    "print(Q1_res_df[['Night Mins', 'Night Mins Min-Max']].head())"
   ]
  },
  {
   "cell_type": "markdown",
   "metadata": {},
   "source": [
    "#### `3.b` Standardize the data in the \"Night Mins\" column using the Z-score method."
   ]
  },
  {
   "cell_type": "code",
   "execution_count": 33,
   "metadata": {},
   "outputs": [
    {
     "data": {
      "text/html": [
       "<div>\n",
       "<style scoped>\n",
       "    .dataframe tbody tr th:only-of-type {\n",
       "        vertical-align: middle;\n",
       "    }\n",
       "\n",
       "    .dataframe tbody tr th {\n",
       "        vertical-align: top;\n",
       "    }\n",
       "\n",
       "    .dataframe thead th {\n",
       "        text-align: right;\n",
       "    }\n",
       "</style>\n",
       "<table border=\"1\" class=\"dataframe\">\n",
       "  <thead>\n",
       "    <tr style=\"text-align: right;\">\n",
       "      <th></th>\n",
       "      <th>Night Mins</th>\n",
       "      <th>Night Mins Z-score</th>\n",
       "    </tr>\n",
       "  </thead>\n",
       "  <tbody>\n",
       "    <tr>\n",
       "      <th>0</th>\n",
       "      <td>245.0</td>\n",
       "      <td>0.859200</td>\n",
       "    </tr>\n",
       "    <tr>\n",
       "      <th>1</th>\n",
       "      <td>254.5</td>\n",
       "      <td>1.047028</td>\n",
       "    </tr>\n",
       "    <tr>\n",
       "      <th>2</th>\n",
       "      <td>162.7</td>\n",
       "      <td>-0.767984</td>\n",
       "    </tr>\n",
       "    <tr>\n",
       "      <th>3</th>\n",
       "      <td>196.9</td>\n",
       "      <td>-0.091803</td>\n",
       "    </tr>\n",
       "    <tr>\n",
       "      <th>4</th>\n",
       "      <td>187.2</td>\n",
       "      <td>-0.283585</td>\n",
       "    </tr>\n",
       "  </tbody>\n",
       "</table>\n",
       "</div>"
      ],
      "text/plain": [
       "   Night Mins  Night Mins Z-score\n",
       "0       245.0            0.859200\n",
       "1       254.5            1.047028\n",
       "2       162.7           -0.767984\n",
       "3       196.9           -0.091803\n",
       "4       187.2           -0.283585"
      ]
     },
     "execution_count": 33,
     "metadata": {},
     "output_type": "execute_result"
    }
   ],
   "source": [
    "from scipy.stats import zscore\n",
    "\n",
    "# Z-score standardization\n",
    "Q1_res_df['Night Mins Z-score'] = zscore(Q1_res_df['Night Mins'])\n",
    "\n",
    "# Display the first few rows to confirm\n",
    "Q1_res_df[['Night Mins', 'Night Mins Z-score']].head()"
   ]
  },
  {
   "cell_type": "markdown",
   "metadata": {},
   "source": [
    "#### `3.c` Compare the results of both normalization methods using a graph."
   ]
  },
  {
   "cell_type": "code",
   "execution_count": 34,
   "metadata": {},
   "outputs": [
    {
     "data": {
      "image/png": "[encoded data removed]",
      "text/plain": [
       "<Figure size 1400x700 with 2 Axes>"
      ]
     },
     "metadata": {},
     "output_type": "display_data"
    }
   ],
   "source": [
    "plt.figure(figsize=(14, 7))\n",
    "\n",
    "# Plot Min-Max Normalized Data\n",
    "plt.subplot(1, 2, 1)\n",
    "plt.hist(Q1_res_df['Night Mins Min-Max'], bins=30, color='blue', edgecolor='black')\n",
    "plt.title('Min-Max Normalization')\n",
    "plt.xlabel('Normalized Night Mins')\n",
    "plt.ylabel('Frequency')\n",
    "\n",
    "# Plot Z-score Standardized Data\n",
    "plt.subplot(1, 2, 2)\n",
    "plt.hist(Q1_res_df['Night Mins Z-score'], bins=30, color='green', edgecolor='black')\n",
    "plt.title('Z-score Standardization')\n",
    "plt.xlabel('Standardized Night Mins')\n",
    "plt.ylabel('Frequency')\n",
    "\n",
    "plt.tight_layout()\n",
    "plt.show()\n"
   ]
  },
  {
   "cell_type": "markdown",
   "metadata": {},
   "source": [
    "$\\downarrow$ \n",
    "\n",
    "The Z-standardized data will have mean 0 and standard deviation 1 but the `skewness wouldn't changed` so `data had normal distribution before applying transformation`.\n",
    "\n",
    "The min-max normalization values range from `0 to 1` and like Z-score don't change the distribution."
   ]
  },
  {
   "cell_type": "markdown",
   "metadata": {},
   "source": [
    "#### `3.d` Calculate and compare the skewness of the data before and after applying both transformations."
   ]
  },
  {
   "cell_type": "code",
   "execution_count": 35,
   "metadata": {},
   "outputs": [
    {
     "name": "stdout",
     "output_type": "stream",
     "text": [
      "Original Skewness: 0.01753040618895532\n",
      "Min-Max Normalized Skewness: 0.017530406188955117\n",
      "Z-score Standardized Skewness: 0.017530406188954482\n"
     ]
    }
   ],
   "source": [
    "from scipy.stats import skew\n",
    "\n",
    "# Calculate skewness\n",
    "original_skew = skew(Q1_res_df['Night Mins'])\n",
    "min_max_skew = skew(Q1_res_df['Night Mins Min-Max'])\n",
    "z_score_skew = skew(Q1_res_df['Night Mins Z-score'])\n",
    "\n",
    "print(f'Original Skewness: {original_skew}')\n",
    "print(f'Min-Max Normalized Skewness: {min_max_skew}')\n",
    "print(f'Z-score Standardized Skewness: {z_score_skew}')\n"
   ]
  },
  {
   "cell_type": "markdown",
   "metadata": {},
   "source": [
    "$\\downarrow$ \n",
    "\n",
    "A skewness value of 0.017 indicates that the data is very `close to symmetric`.\n",
    "\n",
    "Since it's near zero, it shows that both before and after the transformations, the data distribution `has not significantly changed` in terms of skewness."
   ]
  },
  {
   "cell_type": "markdown",
   "metadata": {},
   "source": [
    "### **4. Normality Check**\n",
    "Check the normality of the data in the \"Eve Mins\" column (only available\n",
    "values) using visualizations such as histograms or Q-Q plots.\n"
   ]
  },
  {
   "cell_type": "code",
   "execution_count": 36,
   "metadata": {},
   "outputs": [],
   "source": [
    "df = pd.read_csv('D:\\CS-UT\\_Data_Mining\\Churn(preprocessing).csv')"
   ]
  },
  {
   "cell_type": "code",
   "execution_count": 37,
   "metadata": {},
   "outputs": [
    {
     "data": {
      "image/png": "[encoded data removed]",
      "text/plain": [
       "<Figure size 1400x700 with 2 Axes>"
      ]
     },
     "metadata": {},
     "output_type": "display_data"
    }
   ],
   "source": [
    "import scipy.stats as stats\n",
    "\n",
    "# Filter out missing values in the \"Eve Mins\" column\n",
    "eve_mins = df['Eve Mins'].dropna()\n",
    "\n",
    "# Plotting the histogram\n",
    "plt.figure(figsize=(14, 7))\n",
    "\n",
    "# Histogram\n",
    "plt.subplot(1, 2, 1)\n",
    "plt.hist(eve_mins, bins=30, color='blue', edgecolor='black')\n",
    "plt.title('Histogram of Eve Mins')\n",
    "plt.xlabel('Eve Mins')\n",
    "plt.ylabel('Frequency')\n",
    "\n",
    "# Q-Q plot\n",
    "plt.subplot(1, 2, 2)\n",
    "stats.probplot(eve_mins, dist=\"norm\", plot=plt)\n",
    "plt.title('Q-Q Plot of Eve Mins')\n",
    "\n",
    "plt.tight_layout()\n",
    "plt.show()\n"
   ]
  },
  {
   "cell_type": "markdown",
   "metadata": {},
   "source": [
    "$\\downarrow$ \n",
    "\n",
    "Based on the `histogram` and `Q-Q plot`, the data is very close to normal distribution.\n",
    "\n",
    "You can see how well the data quantiles and normal quantiles are similar in the Q-Q plot."
   ]
  }
 ],
 "metadata": {
  "kernelspec": {
   "display_name": "Python 3",
   "language": "python",
   "name": "python3"
  },
  "language_info": {
   "codemirror_mode": {
    "name": "ipython",
    "version": 3
   },
   "file_extension": ".py",
   "mimetype": "text/x-python",
   "name": "python",
   "nbconvert_exporter": "python",
   "pygments_lexer": "ipython3",
   "version": "3.11.5"
  }
 },
 "nbformat": 4,
 "nbformat_minor": 2
}
